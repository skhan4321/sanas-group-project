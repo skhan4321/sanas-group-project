{
 "cells": [
  {
   "cell_type": "code",
   "execution_count": 25,
   "metadata": {},
   "outputs": [
    {
     "name": "stderr",
     "output_type": "stream",
     "text": [
      "IOPub data rate exceeded.\n",
      "The notebook server will temporarily stop sending output\n",
      "to the client in order to avoid crashing it.\n",
      "To change this limit, set the config variable\n",
      "`--NotebookApp.iopub_data_rate_limit`.\n",
      "\n",
      "Current values:\n",
      "NotebookApp.iopub_data_rate_limit=1000000.0 (bytes/sec)\n",
      "NotebookApp.rate_limit_window=3.0 (secs)\n",
      "\n"
     ]
    }
   ],
   "source": [
    "import requests\n",
    "import json\n",
    "\n",
    "url =\"https://data.austintexas.gov/resource/i26j-ai4z.json\"\n",
    "\n",
    "r = requests.get(url)\n",
    "complaint_json = r.json() #convert to a json\n",
    "\n",
    "first_complaint = complaint_json[0] #get the first complaint\n",
    "#type(first_complaint)\n",
    "#print(first_complaint)\n",
    "\n",
    "\n",
    "#print(requests.get(url).json())\n",
    "\n",
    "#esponse = requests.get(url).json()\n",
    "#print(json.dumps(response, indent=4, sort_keys=True))\n",
    "number =[]\n",
    "location = []\n",
    "for complaint in complaint_json:\n",
    "    number.append(first_complaint['sr_number'])\n",
    "    location.append(first_complaint['sr_location_lat_long'])\n",
    "    print(complaint_number)\n",
    "    print(location)\n",
    "    \n",
    "    "
   ]
  }
 ],
 "metadata": {
  "kernelspec": {
   "display_name": "class_env",
   "language": "python",
   "name": "class_env"
  },
  "language_info": {
   "codemirror_mode": {
    "name": "ipython",
    "version": 3
   },
   "file_extension": ".py",
   "mimetype": "text/x-python",
   "name": "python",
   "nbconvert_exporter": "python",
   "pygments_lexer": "ipython3",
   "version": "3.7.5"
  }
 },
 "nbformat": 4,
 "nbformat_minor": 2
}
